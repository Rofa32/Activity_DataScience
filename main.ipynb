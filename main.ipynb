{
 "cells": [
  {
   "cell_type": "code",
   "execution_count": 1,
   "id": "78b10e7c",
   "metadata": {},
   "outputs": [
    {
     "name": "stdout",
     "output_type": "stream",
     "text": [
      "Car Information:\n",
      "Brand: Nissan, Name: Camry, Color: Blue\n",
      "Brand: Honda, Name: Civic, Color: Red\n",
      "Brand: Mazda, Name: Mustang, Color: Black\n",
      "Enter distance traveled (in kilometers): 100\n",
      "Enter time taken (in hours): 200\n",
      "Illegal Speed: 0.5 km/h\n"
     ]
    }
   ],
   "source": [
    "#Rahaf Saeed Alhalai\n",
    "#442807504\n",
    "\n",
    "from Cars_info import print_car_info, calculate_car_speed\n",
    "\n",
    "#a) Print all dictionary info and CarBrand only from main.\n",
    "print_car_info()\n",
    "\n",
    "#b) Calculate Car speed by sending time and distance from main [as input from keyboard] to function in Cars_info module then check if speed is legal or illegal\n",
    "distance = float(input(\"Enter distance traveled (in kilometers): \"))\n",
    "time = float(input(\"Enter time taken (in hours): \"))\n",
    "speed_status = calculate_car_speed(distance, time)\n",
    "print(speed_status)\n"
   ]
  },
  {
   "cell_type": "code",
   "execution_count": 2,
   "id": "88250640",
   "metadata": {},
   "outputs": [
    {
     "name": "stdout",
     "output_type": "stream",
     "text": [
      "Supplier Information:\n",
      "Supplier Name: ABC Suppliers\n",
      "Supplier Address: 123 Supplier Street, City, Country\n",
      "Supplier Phone: 111-486-7000\n",
      "\n"
     ]
    }
   ],
   "source": [
    "#Rahaf Saeed Alhalai\n",
    "#442807504\n",
    "\n",
    "#a)Create function called SupInfo that contains variable about supName, supAddress,supPhone and then print them all from main\n",
    "from Supplier_info import SupInfo\n",
    "SupInfo()\n",
    "print()"
   ]
  },
  {
   "cell_type": "code",
   "execution_count": 3,
   "id": "e1045d45",
   "metadata": {},
   "outputs": [
    {
     "name": "stdout",
     "output_type": "stream",
     "text": [
      "Third car brand: Mazda\n"
     ]
    }
   ],
   "source": [
    "#Rahaf Saeed Alhalai\n",
    "#442807504\n",
    "\n",
    "#b) Create list of 5 car brand then print 3rd one from main.\n",
    "\n",
    "from Supplier_info import car_brands\n",
    "\n",
    "car_brand = car_brands()\n",
    "print(\"Third car brand:\", car_brand[2])\n"
   ]
  },
  {
   "cell_type": "code",
   "execution_count": null,
   "id": "a8f3d5b4",
   "metadata": {},
   "outputs": [],
   "source": []
  },
  {
   "cell_type": "code",
   "execution_count": null,
   "id": "d0f6f78d",
   "metadata": {},
   "outputs": [],
   "source": []
  }
 ],
 "metadata": {
  "kernelspec": {
   "display_name": "Python 3 (ipykernel)",
   "language": "python",
   "name": "python3"
  },
  "language_info": {
   "codemirror_mode": {
    "name": "ipython",
    "version": 3
   },
   "file_extension": ".py",
   "mimetype": "text/x-python",
   "name": "python",
   "nbconvert_exporter": "python",
   "pygments_lexer": "ipython3",
   "version": "3.10.9"
  }
 },
 "nbformat": 4,
 "nbformat_minor": 5
}
